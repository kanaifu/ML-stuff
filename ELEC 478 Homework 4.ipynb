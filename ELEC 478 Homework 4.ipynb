{
  "nbformat": 4,
  "nbformat_minor": 0,
  "metadata": {
    "colab": {
      "provenance": []
    },
    "kernelspec": {
      "name": "python3",
      "display_name": "Python 3"
    },
    "language_info": {
      "name": "python"
    }
  },
  "cells": [
    {
      "cell_type": "markdown",
      "source": [
        "# ELEC 478 Homework 4"
      ],
      "metadata": {
        "id": "mVfRd98qILsY"
      }
    },
    {
      "cell_type": "markdown",
      "source": [
        "## Problem 1\n",
        "\n",
        "Deep Learning. This problem will use the Fashion MNIST dataset. It is available through APIs in tensorflow, Kaggle, or Github and is already split into training and test sets. You can further split the training set into a training and validation set for hyperparameter tuning. Feel free to use random search or another approach to hyperparameter tuning, but please justify your choice."
      ],
      "metadata": {
        "id": "c0tBE9BLIZnu"
      }
    },
    {
      "cell_type": "code",
      "source": [
        "import tensorflow as tf\n",
        "from sklearn.model_selection import train_test_split\n",
        "\n",
        "(x_train, y_train), (x_test, y_test) = tf.keras.datasets.fashion_mnist.load_data()\n",
        "\n",
        "x_train, x_test = x_train / 255.0, x_test / 255.0\n",
        "\n",
        "x_train, x_val, y_train, y_val = train_test_split(x_train, y_train, test_size=0.2, random_state=42)"
      ],
      "metadata": {
        "id": "uVwHmv7rIn8D"
      },
      "execution_count": 2,
      "outputs": []
    },
    {
      "cell_type": "markdown",
      "source": [
        "(a) Neural Network Activation functions. Build a feedforward neural network with a single hidden layer with p neurons. Compare ReLU to at least one other activation function. Which one is best? Why? Feel free to fix this activation function for the remaining problems."
      ],
      "metadata": {
        "id": "gZ3gREhRIt22"
      }
    },
    {
      "cell_type": "code",
      "source": [
        "# Define the model architecture\n",
        "model_relu = tf.keras.models.Sequential([\n",
        "    tf.keras.layers.Flatten(input_shape=(28, 28)),\n",
        "    tf.keras.layers.Dense(128, activation='relu'),\n",
        "    tf.keras.layers.Dense(10)\n",
        "])\n",
        "\n",
        "model_sigmoid = tf.keras.models.Sequential([\n",
        "    tf.keras.layers.Flatten(input_shape=(28, 28)),\n",
        "    tf.keras.layers.Dense(128, activation='sigmoid'),\n",
        "    tf.keras.layers.Dense(10)\n",
        "])\n",
        "\n",
        "# Compile the models\n",
        "model_relu.compile(optimizer='adam',\n",
        "              loss=tf.keras.losses.SparseCategoricalCrossentropy(from_logits=True),\n",
        "              metrics=['accuracy'])\n",
        "\n",
        "model_sigmoid.compile(optimizer='adam',\n",
        "              loss=tf.keras.losses.SparseCategoricalCrossentropy(from_logits=True),\n",
        "              metrics=['accuracy'])\n",
        "\n",
        "# Train the models\n",
        "history_relu = model_relu.fit(x_train, y_train, epochs=10, validation_data=(x_val, y_val))\n",
        "history_sigmoid = model_sigmoid.fit(x_train, y_train, epochs=10, validation_data=(x_val, y_val))\n",
        "\n",
        "# Compare the performance\n",
        "print(\"ReLU model accuracy: \", history_relu.history['val_accuracy'][-1])\n",
        "print(\"Sigmoid model accuracy: \", history_sigmoid.history['val_accuracy'][-1])"
      ],
      "metadata": {
        "colab": {
          "base_uri": "https://localhost:8080/"
        },
        "id": "HPSKderpIy1g",
        "outputId": "a21ac96b-6f4a-4cdf-cc50-718ac04268b5"
      },
      "execution_count": 4,
      "outputs": [
        {
          "output_type": "stream",
          "name": "stdout",
          "text": [
            "Epoch 1/10\n",
            "1500/1500 [==============================] - 10s 5ms/step - loss: 0.5180 - accuracy: 0.8192 - val_loss: 0.4444 - val_accuracy: 0.8428\n",
            "Epoch 2/10\n",
            "1500/1500 [==============================] - 6s 4ms/step - loss: 0.3906 - accuracy: 0.8600 - val_loss: 0.3725 - val_accuracy: 0.8663\n",
            "Epoch 3/10\n",
            "1500/1500 [==============================] - 8s 5ms/step - loss: 0.3485 - accuracy: 0.8731 - val_loss: 0.3700 - val_accuracy: 0.8692\n",
            "Epoch 4/10\n",
            "1500/1500 [==============================] - 6s 4ms/step - loss: 0.3195 - accuracy: 0.8825 - val_loss: 0.3442 - val_accuracy: 0.8758\n",
            "Epoch 5/10\n",
            "1500/1500 [==============================] - 8s 5ms/step - loss: 0.3011 - accuracy: 0.8888 - val_loss: 0.3464 - val_accuracy: 0.8735\n",
            "Epoch 6/10\n",
            "1500/1500 [==============================] - 6s 4ms/step - loss: 0.2870 - accuracy: 0.8948 - val_loss: 0.3262 - val_accuracy: 0.8862\n",
            "Epoch 7/10\n",
            "1500/1500 [==============================] - 8s 5ms/step - loss: 0.2725 - accuracy: 0.8995 - val_loss: 0.3237 - val_accuracy: 0.8811\n",
            "Epoch 8/10\n",
            "1500/1500 [==============================] - 6s 4ms/step - loss: 0.2606 - accuracy: 0.9047 - val_loss: 0.3155 - val_accuracy: 0.8889\n",
            "Epoch 9/10\n",
            "1500/1500 [==============================] - 8s 5ms/step - loss: 0.2509 - accuracy: 0.9078 - val_loss: 0.3312 - val_accuracy: 0.8821\n",
            "Epoch 10/10\n",
            "1500/1500 [==============================] - 6s 4ms/step - loss: 0.2425 - accuracy: 0.9095 - val_loss: 0.3196 - val_accuracy: 0.8867\n",
            "Epoch 1/10\n",
            "1500/1500 [==============================] - 9s 5ms/step - loss: 0.5711 - accuracy: 0.8071 - val_loss: 0.4341 - val_accuracy: 0.8430\n",
            "Epoch 2/10\n",
            "1500/1500 [==============================] - 6s 4ms/step - loss: 0.4077 - accuracy: 0.8534 - val_loss: 0.3847 - val_accuracy: 0.8590\n",
            "Epoch 3/10\n",
            "1500/1500 [==============================] - 8s 5ms/step - loss: 0.3687 - accuracy: 0.8670 - val_loss: 0.3671 - val_accuracy: 0.8656\n",
            "Epoch 4/10\n",
            "1500/1500 [==============================] - 6s 4ms/step - loss: 0.3432 - accuracy: 0.8749 - val_loss: 0.3455 - val_accuracy: 0.8741\n",
            "Epoch 5/10\n",
            "1500/1500 [==============================] - 7s 5ms/step - loss: 0.3218 - accuracy: 0.8828 - val_loss: 0.3342 - val_accuracy: 0.8780\n",
            "Epoch 6/10\n",
            "1500/1500 [==============================] - 7s 4ms/step - loss: 0.3059 - accuracy: 0.8881 - val_loss: 0.3304 - val_accuracy: 0.8757\n",
            "Epoch 7/10\n",
            "1500/1500 [==============================] - 7s 5ms/step - loss: 0.2924 - accuracy: 0.8930 - val_loss: 0.3144 - val_accuracy: 0.8867\n",
            "Epoch 8/10\n",
            "1500/1500 [==============================] - 7s 5ms/step - loss: 0.2791 - accuracy: 0.8976 - val_loss: 0.3194 - val_accuracy: 0.8831\n",
            "Epoch 9/10\n",
            "1500/1500 [==============================] - 7s 4ms/step - loss: 0.2694 - accuracy: 0.9014 - val_loss: 0.3121 - val_accuracy: 0.8870\n",
            "Epoch 10/10\n",
            "1500/1500 [==============================] - 7s 5ms/step - loss: 0.2592 - accuracy: 0.9045 - val_loss: 0.3080 - val_accuracy: 0.8885\n",
            "ReLU model accuracy:  0.8867499828338623\n",
            "Sigmoid model accuracy:  0.8884999752044678\n"
          ]
        }
      ]
    },
    {
      "cell_type": "markdown",
      "source": [
        "After running the two models, it seems like the ReLU-based one performs worse than the sigmoid-based one, with the ReLU model reporting an accuracy of 0.8867 on the validation set and sigmoid model reporting an accuracy of 0.8884 on the validation set.\n",
        "\n",
        "The difference in performance between the ReLU and sigmoid models could be due to many factors. It could be that the sigmoid function is simply a better fit for the fashion MNIST dataset. Alternatively, it could be that the ReLU model is suffering from the “dying ReLU” problem, which is causing it to learn less effectively.\n",
        "\n",
        "It’s also worth noting that the difference in performance between the two models is quite small (0.8867 vs 0.8884). Therefore, it’s possible that the difference we’re seeing is just due to random chance."
      ],
      "metadata": {
        "id": "iOGvGQRcQVXL"
      }
    },
    {
      "cell_type": "markdown",
      "source": [
        "(b) Neural Network Size. Build a feedforward neural network with a single hidden layer and vary the number of neurons in this layer. How many neurons is best? Why?"
      ],
      "metadata": {
        "id": "WaNp8MmVIzSI"
      }
    },
    {
      "cell_type": "code",
      "source": [
        "import numpy as np\n",
        "\n",
        "# Define a list of neuron counts to try\n",
        "neuron_counts = [32, 64, 128, 256, 512]\n",
        "\n",
        "# Initialize a dictionary to store the validation accuracies for each neuron count\n",
        "val_accuracies = {}\n",
        "\n",
        "# For each neuron count...\n",
        "for count in neuron_counts:\n",
        "    # Define the model architecture\n",
        "    model = tf.keras.models.Sequential([\n",
        "        tf.keras.layers.Flatten(input_shape=(28, 28)),\n",
        "        tf.keras.layers.Dense(count, activation='sigmoid'),\n",
        "        tf.keras.layers.Dense(10)\n",
        "    ])\n",
        "\n",
        "    # Compile the model\n",
        "    model.compile(optimizer='adam',\n",
        "                  loss=tf.keras.losses.SparseCategoricalCrossentropy(from_logits=True),\n",
        "                  metrics=['accuracy'])\n",
        "\n",
        "    # Train the model\n",
        "    history = model.fit(x_train, y_train, epochs=10, validation_data=(x_val, y_val))\n",
        "\n",
        "    # Store the validation accuracy for this neuron count\n",
        "    val_accuracies[count] = history.history['val_accuracy'][-1]\n",
        "\n",
        "# Print the validation accuracies for each neuron count\n",
        "for count, accuracy in val_accuracies.items():\n",
        "    print(f\"{count} neurons: {accuracy} accuracy\")"
      ],
      "metadata": {
        "colab": {
          "base_uri": "https://localhost:8080/"
        },
        "id": "pvYoyChlIz61",
        "outputId": "72eaa017-96ce-4887-9e86-e15eebc1a060"
      },
      "execution_count": 5,
      "outputs": [
        {
          "output_type": "stream",
          "name": "stdout",
          "text": [
            "Epoch 1/10\n",
            "1500/1500 [==============================] - 4s 3ms/step - loss: 0.7165 - accuracy: 0.7818 - val_loss: 0.4855 - val_accuracy: 0.8297\n",
            "Epoch 2/10\n",
            "1500/1500 [==============================] - 4s 3ms/step - loss: 0.4400 - accuracy: 0.8469 - val_loss: 0.4267 - val_accuracy: 0.8465\n",
            "Epoch 3/10\n",
            "1500/1500 [==============================] - 5s 3ms/step - loss: 0.3966 - accuracy: 0.8602 - val_loss: 0.3970 - val_accuracy: 0.8559\n",
            "Epoch 4/10\n",
            "1500/1500 [==============================] - 4s 2ms/step - loss: 0.3715 - accuracy: 0.8686 - val_loss: 0.3737 - val_accuracy: 0.8662\n",
            "Epoch 5/10\n",
            "1500/1500 [==============================] - 4s 3ms/step - loss: 0.3561 - accuracy: 0.8728 - val_loss: 0.3704 - val_accuracy: 0.8677\n",
            "Epoch 6/10\n",
            "1500/1500 [==============================] - 5s 4ms/step - loss: 0.3429 - accuracy: 0.8787 - val_loss: 0.3582 - val_accuracy: 0.8713\n",
            "Epoch 7/10\n",
            "1500/1500 [==============================] - 4s 3ms/step - loss: 0.3332 - accuracy: 0.8799 - val_loss: 0.3607 - val_accuracy: 0.8701\n",
            "Epoch 8/10\n",
            "1500/1500 [==============================] - 4s 3ms/step - loss: 0.3227 - accuracy: 0.8837 - val_loss: 0.3548 - val_accuracy: 0.8691\n",
            "Epoch 9/10\n",
            "1500/1500 [==============================] - 5s 3ms/step - loss: 0.3165 - accuracy: 0.8860 - val_loss: 0.3438 - val_accuracy: 0.8765\n",
            "Epoch 10/10\n",
            "1500/1500 [==============================] - 4s 3ms/step - loss: 0.3077 - accuracy: 0.8897 - val_loss: 0.3499 - val_accuracy: 0.8764\n",
            "Epoch 1/10\n",
            "1500/1500 [==============================] - 6s 4ms/step - loss: 0.6182 - accuracy: 0.7998 - val_loss: 0.4550 - val_accuracy: 0.8372\n",
            "Epoch 2/10\n",
            "1500/1500 [==============================] - 6s 4ms/step - loss: 0.4193 - accuracy: 0.8515 - val_loss: 0.4139 - val_accuracy: 0.8487\n",
            "Epoch 3/10\n",
            "1500/1500 [==============================] - 4s 3ms/step - loss: 0.3796 - accuracy: 0.8653 - val_loss: 0.3756 - val_accuracy: 0.8641\n",
            "Epoch 4/10\n",
            "1500/1500 [==============================] - 6s 4ms/step - loss: 0.3550 - accuracy: 0.8723 - val_loss: 0.3801 - val_accuracy: 0.8637\n",
            "Epoch 5/10\n",
            "1500/1500 [==============================] - 5s 4ms/step - loss: 0.3379 - accuracy: 0.8774 - val_loss: 0.3518 - val_accuracy: 0.8721\n",
            "Epoch 6/10\n",
            "1500/1500 [==============================] - 5s 3ms/step - loss: 0.3234 - accuracy: 0.8834 - val_loss: 0.3390 - val_accuracy: 0.8742\n",
            "Epoch 7/10\n",
            "1500/1500 [==============================] - 6s 4ms/step - loss: 0.3110 - accuracy: 0.8873 - val_loss: 0.3336 - val_accuracy: 0.8783\n",
            "Epoch 8/10\n",
            "1500/1500 [==============================] - 5s 3ms/step - loss: 0.3001 - accuracy: 0.8899 - val_loss: 0.3263 - val_accuracy: 0.8809\n",
            "Epoch 9/10\n",
            "1500/1500 [==============================] - 5s 3ms/step - loss: 0.2895 - accuracy: 0.8955 - val_loss: 0.3327 - val_accuracy: 0.8798\n",
            "Epoch 10/10\n",
            "1500/1500 [==============================] - 6s 4ms/step - loss: 0.2815 - accuracy: 0.8975 - val_loss: 0.3275 - val_accuracy: 0.8802\n",
            "Epoch 1/10\n",
            "1500/1500 [==============================] - 8s 5ms/step - loss: 0.5645 - accuracy: 0.8098 - val_loss: 0.4481 - val_accuracy: 0.8364\n",
            "Epoch 2/10\n",
            "1500/1500 [==============================] - 6s 4ms/step - loss: 0.4039 - accuracy: 0.8550 - val_loss: 0.3898 - val_accuracy: 0.8545\n",
            "Epoch 3/10\n",
            "1500/1500 [==============================] - 8s 5ms/step - loss: 0.3666 - accuracy: 0.8675 - val_loss: 0.3692 - val_accuracy: 0.8652\n",
            "Epoch 4/10\n",
            "1500/1500 [==============================] - 8s 5ms/step - loss: 0.3416 - accuracy: 0.8770 - val_loss: 0.3571 - val_accuracy: 0.8683\n",
            "Epoch 5/10\n",
            "1500/1500 [==============================] - 6s 4ms/step - loss: 0.3221 - accuracy: 0.8826 - val_loss: 0.3621 - val_accuracy: 0.8693\n",
            "Epoch 6/10\n",
            "1500/1500 [==============================] - 9s 6ms/step - loss: 0.3061 - accuracy: 0.8891 - val_loss: 0.3358 - val_accuracy: 0.8767\n",
            "Epoch 7/10\n",
            "1500/1500 [==============================] - 6s 4ms/step - loss: 0.2924 - accuracy: 0.8929 - val_loss: 0.3158 - val_accuracy: 0.8835\n",
            "Epoch 8/10\n",
            "1500/1500 [==============================] - 9s 6ms/step - loss: 0.2800 - accuracy: 0.8967 - val_loss: 0.3281 - val_accuracy: 0.8790\n",
            "Epoch 9/10\n",
            "1500/1500 [==============================] - 7s 5ms/step - loss: 0.2708 - accuracy: 0.9000 - val_loss: 0.3143 - val_accuracy: 0.8852\n",
            "Epoch 10/10\n",
            "1500/1500 [==============================] - 8s 5ms/step - loss: 0.2596 - accuracy: 0.9046 - val_loss: 0.3113 - val_accuracy: 0.8871\n",
            "Epoch 1/10\n",
            "1500/1500 [==============================] - 9s 6ms/step - loss: 0.5334 - accuracy: 0.8135 - val_loss: 0.4268 - val_accuracy: 0.8447\n",
            "Epoch 2/10\n",
            "1500/1500 [==============================] - 10s 7ms/step - loss: 0.3980 - accuracy: 0.8576 - val_loss: 0.3762 - val_accuracy: 0.8647\n",
            "Epoch 3/10\n",
            "1500/1500 [==============================] - 9s 6ms/step - loss: 0.3594 - accuracy: 0.8681 - val_loss: 0.3682 - val_accuracy: 0.8637\n",
            "Epoch 4/10\n",
            "1500/1500 [==============================] - 8s 6ms/step - loss: 0.3317 - accuracy: 0.8787 - val_loss: 0.3681 - val_accuracy: 0.8643\n",
            "Epoch 5/10\n",
            "1500/1500 [==============================] - 10s 7ms/step - loss: 0.3122 - accuracy: 0.8850 - val_loss: 0.3382 - val_accuracy: 0.8728\n",
            "Epoch 6/10\n",
            "1500/1500 [==============================] - 9s 6ms/step - loss: 0.2933 - accuracy: 0.8909 - val_loss: 0.3225 - val_accuracy: 0.8823\n",
            "Epoch 7/10\n",
            "1500/1500 [==============================] - 10s 6ms/step - loss: 0.2792 - accuracy: 0.8965 - val_loss: 0.3138 - val_accuracy: 0.8854\n",
            "Epoch 8/10\n",
            "1500/1500 [==============================] - 9s 6ms/step - loss: 0.2655 - accuracy: 0.9010 - val_loss: 0.3221 - val_accuracy: 0.8817\n",
            "Epoch 9/10\n",
            "1500/1500 [==============================] - 8s 5ms/step - loss: 0.2542 - accuracy: 0.9051 - val_loss: 0.3043 - val_accuracy: 0.8881\n",
            "Epoch 10/10\n",
            "1500/1500 [==============================] - 10s 7ms/step - loss: 0.2419 - accuracy: 0.9112 - val_loss: 0.3172 - val_accuracy: 0.8814\n",
            "Epoch 1/10\n",
            "1500/1500 [==============================] - 14s 9ms/step - loss: 0.5215 - accuracy: 0.8155 - val_loss: 0.4266 - val_accuracy: 0.8436\n",
            "Epoch 2/10\n",
            "1500/1500 [==============================] - 13s 9ms/step - loss: 0.3984 - accuracy: 0.8552 - val_loss: 0.3842 - val_accuracy: 0.8640\n",
            "Epoch 3/10\n",
            "1500/1500 [==============================] - 12s 8ms/step - loss: 0.3569 - accuracy: 0.8702 - val_loss: 0.3516 - val_accuracy: 0.8752\n",
            "Epoch 4/10\n",
            "1500/1500 [==============================] - 12s 8ms/step - loss: 0.3298 - accuracy: 0.8780 - val_loss: 0.3540 - val_accuracy: 0.8673\n",
            "Epoch 5/10\n",
            "1500/1500 [==============================] - 12s 8ms/step - loss: 0.3078 - accuracy: 0.8861 - val_loss: 0.3224 - val_accuracy: 0.8793\n",
            "Epoch 6/10\n",
            "1500/1500 [==============================] - 13s 9ms/step - loss: 0.2865 - accuracy: 0.8942 - val_loss: 0.3157 - val_accuracy: 0.8819\n",
            "Epoch 7/10\n",
            "1500/1500 [==============================] - 13s 8ms/step - loss: 0.2712 - accuracy: 0.8975 - val_loss: 0.3101 - val_accuracy: 0.8891\n",
            "Epoch 8/10\n",
            "1500/1500 [==============================] - 13s 9ms/step - loss: 0.2545 - accuracy: 0.9038 - val_loss: 0.3160 - val_accuracy: 0.8877\n",
            "Epoch 9/10\n",
            "1500/1500 [==============================] - 13s 8ms/step - loss: 0.2438 - accuracy: 0.9084 - val_loss: 0.3248 - val_accuracy: 0.8798\n",
            "Epoch 10/10\n",
            "1500/1500 [==============================] - 15s 10ms/step - loss: 0.2312 - accuracy: 0.9137 - val_loss: 0.3167 - val_accuracy: 0.8825\n",
            "32 neurons: 0.8764166831970215 accuracy\n",
            "64 neurons: 0.8801666498184204 accuracy\n",
            "128 neurons: 0.8870833516120911 accuracy\n",
            "256 neurons: 0.8814166784286499 accuracy\n",
            "512 neurons: 0.8824999928474426 accuracy\n"
          ]
        }
      ]
    },
    {
      "cell_type": "markdown",
      "source": [
        "The number of neurons determines the capacity of a model, which is its ability to fit a wide variety of functions. Models with more neurons can express more complex functions.\n",
        "\n",
        "However, having too many neurons can lead to overfitting, where the model learns the training data too well and performs poorly on unseen data. On the other hand, having too few neurons can lead to underfitting, where the model fails to learn the underlying pattern of the data.\n",
        "\n",
        "In this case, it seems that a model with 128 neurons in the hidden layer has the right balance between capacity and generalization, as it achieved the highest accuracy on your validation set. This suggests that it’s complex enough to capture the underlying patterns in the data, but not so complex that it overfits to the training data.\n"
      ],
      "metadata": {
        "id": "Ep7WSO3Samzw"
      }
    },
    {
      "cell_type": "markdown",
      "source": [
        "(c) Multi-Layer Perceptron. Build a feedforward neural network with 2 hidden layers. (Use some form of validation to choose the size of each hidden layer; justify your choice and discuss the results.)"
      ],
      "metadata": {
        "id": "qj52YNUEI0Ua"
      }
    },
    {
      "cell_type": "code",
      "source": [
        "import numpy as np\n",
        "\n",
        "# Define a list of neuron counts to try\n",
        "neuron_counts = [(32, 16), (64, 32), (128, 64), (256, 128), (512, 256)]\n",
        "\n",
        "# Initialize a dictionary to store the validation accuracies for each neuron count\n",
        "val_accuracies = {}\n",
        "\n",
        "history_of_best = None\n",
        "max_accuracy = 0.0\n",
        "\n",
        "# For each neuron count...\n",
        "for count in neuron_counts:\n",
        "    # Define the model architecture\n",
        "    model = tf.keras.models.Sequential([\n",
        "        tf.keras.layers.Flatten(input_shape=(28, 28)),\n",
        "        tf.keras.layers.Dense(count[0], activation='sigmoid'),\n",
        "        tf.keras.layers.Dense(count[1], activation='sigmoid'),\n",
        "        tf.keras.layers.Dense(10)\n",
        "    ])\n",
        "\n",
        "    # Compile the model\n",
        "    model.compile(optimizer='adam',\n",
        "                  loss=tf.keras.losses.SparseCategoricalCrossentropy(from_logits=True),\n",
        "                  metrics=['accuracy'])\n",
        "\n",
        "    # Train the model\n",
        "    history = model.fit(x_train, y_train, epochs=10, validation_data=(x_val, y_val))\n",
        "\n",
        "    # Store the validation accuracy for this neuron count\n",
        "    val_accuracies[count] = history.history['val_accuracy'][-1]\n",
        "\n",
        "    # Store history of model with superior hyperparameters\n",
        "    if val_accuracies[count] > max_accuracy:\n",
        "        max_accuracy = val_accuracies[count]\n",
        "        history_of_best = history\n",
        "\n",
        "# Print the validation accuracies for each neuron count\n",
        "for count, accuracy in val_accuracies.items():\n",
        "    print(f\"{count} neurons: {accuracy} accuracy\")"
      ],
      "metadata": {
        "colab": {
          "base_uri": "https://localhost:8080/"
        },
        "id": "Z8kVlSRTI0qK",
        "outputId": "010c21b1-c253-471d-95b3-08c110bce858"
      },
      "execution_count": 8,
      "outputs": [
        {
          "output_type": "stream",
          "name": "stdout",
          "text": [
            "Epoch 1/10\n",
            "1500/1500 [==============================] - 7s 4ms/step - loss: 1.0748 - accuracy: 0.7053 - val_loss: 0.6267 - val_accuracy: 0.7862\n",
            "Epoch 2/10\n",
            "1500/1500 [==============================] - 4s 3ms/step - loss: 0.5320 - accuracy: 0.8156 - val_loss: 0.4814 - val_accuracy: 0.8347\n",
            "Epoch 3/10\n",
            "1500/1500 [==============================] - 4s 3ms/step - loss: 0.4430 - accuracy: 0.8492 - val_loss: 0.4284 - val_accuracy: 0.8518\n",
            "Epoch 4/10\n",
            "1500/1500 [==============================] - 5s 3ms/step - loss: 0.4006 - accuracy: 0.8625 - val_loss: 0.4075 - val_accuracy: 0.8544\n",
            "Epoch 5/10\n",
            "1500/1500 [==============================] - 5s 3ms/step - loss: 0.3762 - accuracy: 0.8699 - val_loss: 0.3994 - val_accuracy: 0.8577\n",
            "Epoch 6/10\n",
            "1500/1500 [==============================] - 4s 3ms/step - loss: 0.3578 - accuracy: 0.8742 - val_loss: 0.3784 - val_accuracy: 0.8635\n",
            "Epoch 7/10\n",
            "1500/1500 [==============================] - 5s 4ms/step - loss: 0.3444 - accuracy: 0.8787 - val_loss: 0.3782 - val_accuracy: 0.8680\n",
            "Epoch 8/10\n",
            "1500/1500 [==============================] - 5s 3ms/step - loss: 0.3320 - accuracy: 0.8829 - val_loss: 0.3644 - val_accuracy: 0.8708\n",
            "Epoch 9/10\n",
            "1500/1500 [==============================] - 4s 3ms/step - loss: 0.3242 - accuracy: 0.8852 - val_loss: 0.3786 - val_accuracy: 0.8625\n",
            "Epoch 10/10\n",
            "1500/1500 [==============================] - 5s 3ms/step - loss: 0.3156 - accuracy: 0.8878 - val_loss: 0.3569 - val_accuracy: 0.8726\n",
            "Epoch 1/10\n",
            "1500/1500 [==============================] - 6s 4ms/step - loss: 0.8063 - accuracy: 0.7568 - val_loss: 0.4953 - val_accuracy: 0.8292\n",
            "Epoch 2/10\n",
            "1500/1500 [==============================] - 6s 4ms/step - loss: 0.4354 - accuracy: 0.8472 - val_loss: 0.4025 - val_accuracy: 0.8587\n",
            "Epoch 3/10\n",
            "1500/1500 [==============================] - 6s 4ms/step - loss: 0.3809 - accuracy: 0.8645 - val_loss: 0.3776 - val_accuracy: 0.8624\n",
            "Epoch 4/10\n",
            "1500/1500 [==============================] - 5s 3ms/step - loss: 0.3538 - accuracy: 0.8734 - val_loss: 0.3587 - val_accuracy: 0.8708\n",
            "Epoch 5/10\n",
            "1500/1500 [==============================] - 8s 5ms/step - loss: 0.3336 - accuracy: 0.8798 - val_loss: 0.3486 - val_accuracy: 0.8720\n",
            "Epoch 6/10\n",
            "1500/1500 [==============================] - 7s 5ms/step - loss: 0.3191 - accuracy: 0.8861 - val_loss: 0.3391 - val_accuracy: 0.8784\n",
            "Epoch 7/10\n",
            "1500/1500 [==============================] - 8s 6ms/step - loss: 0.3067 - accuracy: 0.8888 - val_loss: 0.3455 - val_accuracy: 0.8736\n",
            "Epoch 8/10\n",
            "1500/1500 [==============================] - 5s 3ms/step - loss: 0.2965 - accuracy: 0.8922 - val_loss: 0.3254 - val_accuracy: 0.8812\n",
            "Epoch 9/10\n",
            "1500/1500 [==============================] - 6s 4ms/step - loss: 0.2869 - accuracy: 0.8956 - val_loss: 0.3251 - val_accuracy: 0.8794\n",
            "Epoch 10/10\n",
            "1500/1500 [==============================] - 6s 4ms/step - loss: 0.2773 - accuracy: 0.8983 - val_loss: 0.3212 - val_accuracy: 0.8837\n",
            "Epoch 1/10\n",
            "1500/1500 [==============================] - 9s 6ms/step - loss: 0.6616 - accuracy: 0.7838 - val_loss: 0.4440 - val_accuracy: 0.8370\n",
            "Epoch 2/10\n",
            "1500/1500 [==============================] - 8s 5ms/step - loss: 0.4030 - accuracy: 0.8544 - val_loss: 0.3844 - val_accuracy: 0.8615\n",
            "Epoch 3/10\n",
            "1500/1500 [==============================] - 9s 6ms/step - loss: 0.3617 - accuracy: 0.8700 - val_loss: 0.3748 - val_accuracy: 0.8613\n",
            "Epoch 4/10\n",
            "1500/1500 [==============================] - 8s 5ms/step - loss: 0.3376 - accuracy: 0.8769 - val_loss: 0.3399 - val_accuracy: 0.8752\n",
            "Epoch 5/10\n",
            "1500/1500 [==============================] - 9s 6ms/step - loss: 0.3183 - accuracy: 0.8837 - val_loss: 0.3575 - val_accuracy: 0.8683\n",
            "Epoch 6/10\n",
            "1500/1500 [==============================] - 7s 5ms/step - loss: 0.3032 - accuracy: 0.8894 - val_loss: 0.3392 - val_accuracy: 0.8760\n",
            "Epoch 7/10\n",
            "1500/1500 [==============================] - 9s 6ms/step - loss: 0.2902 - accuracy: 0.8942 - val_loss: 0.3630 - val_accuracy: 0.8662\n",
            "Epoch 8/10\n",
            "1500/1500 [==============================] - 8s 6ms/step - loss: 0.2779 - accuracy: 0.8981 - val_loss: 0.3264 - val_accuracy: 0.8812\n",
            "Epoch 9/10\n",
            "1500/1500 [==============================] - 7s 5ms/step - loss: 0.2674 - accuracy: 0.9005 - val_loss: 0.3181 - val_accuracy: 0.8849\n",
            "Epoch 10/10\n",
            "1500/1500 [==============================] - 9s 6ms/step - loss: 0.2566 - accuracy: 0.9050 - val_loss: 0.3333 - val_accuracy: 0.8790\n",
            "Epoch 1/10\n",
            "1500/1500 [==============================] - 10s 7ms/step - loss: 0.5823 - accuracy: 0.7973 - val_loss: 0.4202 - val_accuracy: 0.8457\n",
            "Epoch 2/10\n",
            "1500/1500 [==============================] - 13s 8ms/step - loss: 0.3911 - accuracy: 0.8595 - val_loss: 0.3992 - val_accuracy: 0.8532\n",
            "Epoch 3/10\n",
            "1500/1500 [==============================] - 11s 7ms/step - loss: 0.3537 - accuracy: 0.8713 - val_loss: 0.3606 - val_accuracy: 0.8715\n",
            "Epoch 4/10\n",
            "1500/1500 [==============================] - 11s 7ms/step - loss: 0.3281 - accuracy: 0.8801 - val_loss: 0.3511 - val_accuracy: 0.8692\n",
            "Epoch 5/10\n",
            "1500/1500 [==============================] - 13s 9ms/step - loss: 0.3070 - accuracy: 0.8868 - val_loss: 0.3454 - val_accuracy: 0.8727\n",
            "Epoch 6/10\n",
            "1500/1500 [==============================] - 15s 10ms/step - loss: 0.2907 - accuracy: 0.8931 - val_loss: 0.3144 - val_accuracy: 0.8845\n",
            "Epoch 7/10\n",
            "1500/1500 [==============================] - 12s 8ms/step - loss: 0.2765 - accuracy: 0.8965 - val_loss: 0.3564 - val_accuracy: 0.8708\n",
            "Epoch 8/10\n",
            "1500/1500 [==============================] - 10s 7ms/step - loss: 0.2640 - accuracy: 0.9006 - val_loss: 0.3346 - val_accuracy: 0.8788\n",
            "Epoch 9/10\n",
            "1500/1500 [==============================] - 13s 8ms/step - loss: 0.2507 - accuracy: 0.9062 - val_loss: 0.3136 - val_accuracy: 0.8873\n",
            "Epoch 10/10\n",
            "1500/1500 [==============================] - 11s 7ms/step - loss: 0.2415 - accuracy: 0.9085 - val_loss: 0.3133 - val_accuracy: 0.8897\n",
            "Epoch 1/10\n",
            "1500/1500 [==============================] - 17s 11ms/step - loss: 0.5457 - accuracy: 0.8033 - val_loss: 0.4172 - val_accuracy: 0.8450\n",
            "Epoch 2/10\n",
            "1500/1500 [==============================] - 16s 11ms/step - loss: 0.3883 - accuracy: 0.8591 - val_loss: 0.3828 - val_accuracy: 0.8602\n",
            "Epoch 3/10\n",
            "1500/1500 [==============================] - 16s 10ms/step - loss: 0.3504 - accuracy: 0.8714 - val_loss: 0.3579 - val_accuracy: 0.8698\n",
            "Epoch 4/10\n",
            "1500/1500 [==============================] - 16s 11ms/step - loss: 0.3169 - accuracy: 0.8830 - val_loss: 0.3471 - val_accuracy: 0.8731\n",
            "Epoch 5/10\n",
            "1500/1500 [==============================] - 16s 11ms/step - loss: 0.2972 - accuracy: 0.8896 - val_loss: 0.3154 - val_accuracy: 0.8864\n",
            "Epoch 6/10\n",
            "1500/1500 [==============================] - 16s 11ms/step - loss: 0.2804 - accuracy: 0.8938 - val_loss: 0.3151 - val_accuracy: 0.8844\n",
            "Epoch 7/10\n",
            "1500/1500 [==============================] - 16s 11ms/step - loss: 0.2635 - accuracy: 0.9018 - val_loss: 0.3114 - val_accuracy: 0.8844\n",
            "Epoch 8/10\n",
            "1500/1500 [==============================] - 16s 11ms/step - loss: 0.2519 - accuracy: 0.9050 - val_loss: 0.3186 - val_accuracy: 0.8849\n",
            "Epoch 9/10\n",
            "1500/1500 [==============================] - 16s 11ms/step - loss: 0.2367 - accuracy: 0.9107 - val_loss: 0.3042 - val_accuracy: 0.8889\n",
            "Epoch 10/10\n",
            "1500/1500 [==============================] - 17s 11ms/step - loss: 0.2278 - accuracy: 0.9139 - val_loss: 0.2999 - val_accuracy: 0.8901\n",
            "(32, 16) neurons: 0.8725833296775818 accuracy\n",
            "(64, 32) neurons: 0.8836666941642761 accuracy\n",
            "(128, 64) neurons: 0.8790000081062317 accuracy\n",
            "(256, 128) neurons: 0.8896666765213013 accuracy\n",
            "(512, 256) neurons: 0.8900833129882812 accuracy\n"
          ]
        }
      ]
    },
    {
      "cell_type": "code",
      "source": [
        "import matplotlib.pyplot as plt\n",
        "\n",
        "# Plot training & validation accuracy values\n",
        "plt.figure(figsize=(12, 4))\n",
        "plt.subplot(1, 2, 1)\n",
        "plt.plot(history_of_best.history['accuracy'])\n",
        "plt.plot(history_of_best.history['val_accuracy'])\n",
        "plt.title('Model accuracy')\n",
        "plt.ylabel('Accuracy')\n",
        "plt.xlabel('Epoch')\n",
        "plt.legend(['Train', 'Validation'], loc='upper left')\n",
        "\n",
        "# Plot training & validation loss values\n",
        "plt.subplot(1, 2, 2)\n",
        "plt.plot(history_of_best.history['loss'])\n",
        "plt.plot(history_of_best.history['val_loss'])\n",
        "plt.title('Model loss')\n",
        "plt.ylabel('Loss')\n",
        "plt.xlabel('Epoch')\n",
        "plt.legend(['Train', 'Validation'], loc='upper left')\n",
        "\n",
        "plt.tight_layout()\n",
        "plt.show()\n"
      ],
      "metadata": {
        "colab": {
          "base_uri": "https://localhost:8080/",
          "height": 407
        },
        "id": "-MbsZzR_XzEW",
        "outputId": "e716d377-bc28-4811-ed4e-48d268ce05d7"
      },
      "execution_count": 9,
      "outputs": [
        {
          "output_type": "display_data",
          "data": {
            "text/plain": [
              "<Figure size 1200x400 with 2 Axes>"
            ],
            "image/png": "[encoded data removed]"
          },
          "metadata": {}
        }
      ]
    },
    {
      "cell_type": "markdown",
      "source": [
        "(d) Convolutional Neural Network. Update the architecture by replacing the 2 hidden dense layers with 2 convolutional layers. (Use some form of validation to choose the size of each hidden layer and the filter size; justify your choice and discuss the results.)"
      ],
      "metadata": {
        "id": "BgYY_M1xI1AQ"
      }
    },
    {
      "cell_type": "code",
      "source": [
        "# Define a list of hyperparameters to try\n",
        "hyperparameters = [(32, 64, (3, 3)), (64, 128, (3, 3)), (32, 64, (5, 5)), (64, 128, (5, 5))]\n",
        "\n",
        "# Initialize a dictionary to store the validation accuracies for each set of hyperparameters\n",
        "val_accuracies = {}\n",
        "\n",
        "# One-hot-encode our response variable\n",
        "y_train_ohe = tf.keras.utils.to_categorical(y_train, num_classes=10)\n",
        "y_val_ohe = tf.keras.utils.to_categorical(y_val, num_classes=10)\n",
        "\n",
        "# For each set of hyperparameters...\n",
        "for params in hyperparameters:\n",
        "    # Define the model architecture\n",
        "    model = tf.keras.models.Sequential()\n",
        "    model.add(tf.keras.layers.Conv2D(params[0], kernel_size=params[2], activation='sigmoid', input_shape=(28, 28, 1)))\n",
        "    model.add(tf.keras.layers.Conv2D(params[1], kernel_size=params[2], activation='sigmoid'))\n",
        "    model.add(tf.keras.layers.Flatten())\n",
        "    model.add(tf.keras.layers.Dense(10, activation='softmax'))\n",
        "\n",
        "    # Compile the model\n",
        "    model.compile(optimizer='adam',\n",
        "                  loss='categorical_crossentropy',\n",
        "                  metrics=['accuracy'])\n",
        "\n",
        "    # Train the model\n",
        "    history = model.fit(x_train, y_train_ohe, epochs=10, validation_data=(x_val, y_val_ohe))\n",
        "\n",
        "    # Store the validation accuracy for this set of hyperparameters\n",
        "    val_accuracies[params] = history.history['val_accuracy'][-1]\n",
        "\n",
        "# Print the validation accuracies for each set of hyperparameters\n",
        "for params, accuracy in val_accuracies.items():\n",
        "    print(f\"{params} : {accuracy} accuracy\")"
      ],
      "metadata": {
        "colab": {
          "base_uri": "https://localhost:8080/"
        },
        "id": "5yhYZ0qaI1w_",
        "outputId": "3d89a91c-9fdf-4c35-d7a5-367292cc1cd1"
      },
      "execution_count": null,
      "outputs": [
        {
          "output_type": "stream",
          "name": "stdout",
          "text": [
            "Epoch 1/10\n",
            "1500/1500 [==============================] - 130s 86ms/step - loss: 1.1896 - accuracy: 0.6117 - val_loss: 0.5369 - val_accuracy: 0.8077\n",
            "Epoch 2/10\n",
            "1500/1500 [==============================] - 131s 88ms/step - loss: 0.5173 - accuracy: 0.8125 - val_loss: 0.5013 - val_accuracy: 0.8108\n",
            "Epoch 3/10\n",
            "1500/1500 [==============================] - 127s 85ms/step - loss: 0.4567 - accuracy: 0.8350 - val_loss: 0.4411 - val_accuracy: 0.8417\n",
            "Epoch 4/10\n",
            "1500/1500 [==============================] - 128s 85ms/step - loss: 0.4078 - accuracy: 0.8526 - val_loss: 0.4023 - val_accuracy: 0.8528\n",
            "Epoch 5/10\n",
            "1500/1500 [==============================] - 131s 87ms/step - loss: 0.3730 - accuracy: 0.8651 - val_loss: 0.3877 - val_accuracy: 0.8612\n",
            "Epoch 6/10\n",
            "1500/1500 [==============================] - 127s 85ms/step - loss: 0.3447 - accuracy: 0.8755 - val_loss: 0.3648 - val_accuracy: 0.8683\n",
            "Epoch 7/10\n",
            "1500/1500 [==============================] - 132s 88ms/step - loss: 0.3267 - accuracy: 0.8814 - val_loss: 0.3567 - val_accuracy: 0.8713\n",
            "Epoch 8/10\n",
            "1500/1500 [==============================] - 132s 88ms/step - loss: 0.3124 - accuracy: 0.8866 - val_loss: 0.3483 - val_accuracy: 0.8734\n",
            "Epoch 9/10\n",
            "1405/1500 [===========================>..] - ETA: 7s - loss: 0.3011 - accuracy: 0.8890"
          ]
        }
      ]
    },
    {
      "cell_type": "markdown",
      "source": [
        "(e) Max-Pooling. Update the previous architecture by introducing maxpooling layers after every convolutional layer. (Use some form of validation to choose the pooling size; justify your choice and discuss the results.)"
      ],
      "metadata": {
        "id": "4iEFqi9_JOFZ"
      }
    },
    {
      "cell_type": "code",
      "source": [
        "# Define a list of hyperparameters to try\n",
        "hyperparameters = [(32, 64, (3, 3), (2, 2)), (64, 128, (3, 3), (2, 2)), (32, 64, (5, 5), (2, 2)), (64, 128, (5, 5), (2, 2))]\n",
        "\n",
        "# Initialize a dictionary to store the validation accuracies for each set of hyperparameters\n",
        "val_accuracies = {}\n",
        "\n",
        "# One-hot-encode our response variable\n",
        "y_train_ohe = tf.keras.utils.to_categorical(y_train, num_classes=10)\n",
        "y_val_ohe = tf.keras.utils.to_categorical(y_val, num_classes=10)\n",
        "\n",
        "# For each set of hyperparameters...\n",
        "for params in hyperparameters:\n",
        "    # Define the model architecture\n",
        "    model = tf.keras.models.Sequential()\n",
        "    model.add(tf.keras.layers.Conv2D(params[0], kernel_size=params[2], activation='sigmoid', input_shape=(28, 28, 1)))\n",
        "    model.add(tf.keras.layers.MaxPooling2D(pool_size=params[3]))\n",
        "    model.add(tf.keras.layers.Conv2D(params[1], kernel_size=params[2], activation='sigmoid'))\n",
        "    model.add(tf.keras.layers.MaxPooling2D(pool_size=params[3]))\n",
        "    model.add(tf.keras.layers.Flatten())\n",
        "    model.add(tf.keras.layers.Dense(10, activation='softmax'))\n",
        "\n",
        "    # Compile the model\n",
        "    model.compile(optimizer='adam',\n",
        "                  loss='categorical_crossentropy',\n",
        "                  metrics=['accuracy'])\n",
        "\n",
        "    # Train the model\n",
        "    history = model.fit(x_train, y_train_ohe, epochs=10, validation_data=(x_val, y_val_ohe))\n",
        "\n",
        "    # Store the validation accuracy for this set of hyperparameters\n",
        "    val_accuracies[params] = history.history['val_accuracy'][-1]\n",
        "\n",
        "# Print the validation accuracies for each set of hyperparameters\n",
        "for params, accuracy in val_accuracies.items():\n",
        "    print(f\"{params} : {accuracy} accuracy\")\n"
      ],
      "metadata": {
        "id": "qqeDyX_UJOkZ"
      },
      "execution_count": null,
      "outputs": []
    },
    {
      "cell_type": "markdown",
      "source": [
        "(f) Accuracy & Runtime. Compare and contrast the models in parts (b) - (e) in terms of test accuracy. Report the confusion matrix for classifying to the different classes. Which approach is best? Why? What type of architectural changes might you make to further improve the accuracy? Also report the training time required for each of the above models. Which is the best computationally relative to its accuracy?"
      ],
      "metadata": {
        "id": "HSTad84QJPAp"
      }
    },
    {
      "cell_type": "code",
      "source": [],
      "metadata": {
        "id": "lnMS232rJPfz"
      },
      "execution_count": null,
      "outputs": []
    }
  ]
}